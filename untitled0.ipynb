{
  "nbformat": 4,
  "nbformat_minor": 0,
  "metadata": {
    "colab": {
      "provenance": [],
      "authorship_tag": "ABX9TyPauAYbRL6BDSjSqt3RNVBm",
      "include_colab_link": true
    },
    "kernelspec": {
      "name": "python3",
      "display_name": "Python 3"
    },
    "language_info": {
      "name": "python"
    }
  },
  "cells": [
    {
      "cell_type": "markdown",
      "metadata": {
        "id": "view-in-github",
        "colab_type": "text"
      },
      "source": [
        "<a href=\"https://colab.research.google.com/github/parksinyu/22_10_python/blob/main/untitled0.ipynb\" target=\"_parent\"><img src=\"https://colab.research.google.com/assets/colab-badge.svg\" alt=\"Open In Colab\"/></a>"
      ]
    },
    {
      "cell_type": "code",
      "source": [
        "print(\"안녕하세요?\")\n",
        "print(\"Programming에 입문하신 것을 축하드립니다\")"
      ],
      "metadata": {
        "colab": {
          "base_uri": "https://localhost:8080/"
        },
        "id": "W7S5fOSLpVBr",
        "outputId": "b6bccd4d-d0d3-43f9-e790-a89770f6bfc0"
      },
      "execution_count": 1,
      "outputs": [
        {
          "output_type": "stream",
          "name": "stdout",
          "text": [
            "안녕하세요?\n",
            "Programming에 입문하신 것을 축하드립니다\n"
          ]
        }
      ]
    },
    {
      "cell_type": "code",
      "source": [
        "print(5+6)\n",
        "print(5-3)\n",
        "print(5/3)\n",
        "print(5//3)"
      ],
      "metadata": {
        "id": "I7gFwdL3qFhq",
        "outputId": "65942b63-1388-4dea-f2e9-5af073c71338",
        "colab": {
          "base_uri": "https://localhost:8080/"
        }
      },
      "execution_count": 2,
      "outputs": [
        {
          "output_type": "stream",
          "name": "stdout",
          "text": [
            "11\n",
            "2\n",
            "1.6666666666666667\n",
            "1\n"
          ]
        }
      ]
    },
    {
      "cell_type": "code",
      "source": [
        "print(\"사랑해♥\" * 10)"
      ],
      "metadata": {
        "id": "4XdOAOPVq7n5",
        "outputId": "deabf881-64d1-4b0d-92f1-9be94c7f9123",
        "colab": {
          "base_uri": "https://localhost:8080/"
        }
      },
      "execution_count": 8,
      "outputs": [
        {
          "output_type": "stream",
          "name": "stdout",
          "text": [
            "사랑해♥사랑해♥사랑해♥사랑해♥사랑해♥사랑해♥사랑해♥사랑해♥사랑해♥사랑해♥\n"
          ]
        }
      ]
    },
    {
      "cell_type": "code",
      "source": [
        "print(3.141592*10.0*10.0)\n",
        "print((1/100)*1234)"
      ],
      "metadata": {
        "id": "iICMTdQJrino",
        "outputId": "0d28ce58-a736-4c9b-f156-7be1d6b5a9d6",
        "colab": {
          "base_uri": "https://localhost:8080/"
        }
      },
      "execution_count": 9,
      "outputs": [
        {
          "output_type": "stream",
          "name": "stdout",
          "text": [
            "314.1592\n",
            "12.34\n"
          ]
        }
      ]
    },
    {
      "cell_type": "code",
      "source": [
        "ftemp = 90.0\n",
        "ctemp = ((ftemp-32.0)* 5.0/9.0)\n",
        "print(ctemp)"
      ],
      "metadata": {
        "id": "pxPPIbNXsHBO",
        "outputId": "0aac46b1-a907-4980-bc7d-3b2d9d0bcd78",
        "colab": {
          "base_uri": "https://localhost:8080/"
        }
      },
      "execution_count": 10,
      "outputs": [
        {
          "output_type": "stream",
          "name": "stdout",
          "text": [
            "32.22222222222222\n"
          ]
        }
      ]
    },
    {
      "cell_type": "code",
      "source": [
        "x = 200\n",
        "x = 100\n",
        "print(x)\n",
        "\n",
        "x = 100\n",
        "y = 200\n",
        "print(x)"
      ],
      "metadata": {
        "id": "wEwmUPiQtCyi",
        "outputId": "35156e7b-439a-4b79-e0aa-2a556adedbd1",
        "colab": {
          "base_uri": "https://localhost:8080/"
        }
      },
      "execution_count": 12,
      "outputs": [
        {
          "output_type": "stream",
          "name": "stdout",
          "text": [
            "100\n",
            "100\n"
          ]
        }
      ]
    },
    {
      "cell_type": "code",
      "source": [
        "x = 100\n",
        "y = 200\n",
        "z = (x+y)\n",
        "print(z)\n",
        "print(x+y)"
      ],
      "metadata": {
        "id": "IH3K5NeNvgg_",
        "outputId": "bb6e489b-f039-45d3-9c9f-335685a9be5f",
        "colab": {
          "base_uri": "https://localhost:8080/"
        }
      },
      "execution_count": 13,
      "outputs": [
        {
          "output_type": "stream",
          "name": "stdout",
          "text": [
            "300\n",
            "300\n"
          ]
        }
      ]
    },
    {
      "cell_type": "code",
      "source": [
        "x = 100\n",
        "y = 200\n",
        "sum =x+y\n",
        "print(x, \"과\", y,\"의 합은\", sum, \"입니다.\")"
      ],
      "metadata": {
        "id": "hdQR7t6IzEOZ",
        "outputId": "0f69f9fb-02f2-4714-e95b-cad4fc4ad909",
        "colab": {
          "base_uri": "https://localhost:8080/"
        }
      },
      "execution_count": 14,
      "outputs": [
        {
          "output_type": "stream",
          "name": "stdout",
          "text": [
            "100 과 200 의 합은 300 입니다.\n"
          ]
        }
      ]
    }
  ]
}